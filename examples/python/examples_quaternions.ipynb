{
 "cells": [
  {
   "cell_type": "markdown",
   "id": "c1a73648",
   "metadata": {},
   "source": [
    "# How to use quaternions"
   ]
  },
  {
   "cell_type": "code",
   "execution_count": 3,
   "id": "d7cb2787",
   "metadata": {},
   "outputs": [],
   "source": [
    "import time\n",
    "import numpy as np\n",
    "from lmath import Vector3f, Vector3d\n",
    "from lmath import Vector4f, Vector4d\n",
    "from lmath import Matrix4f, Matrix4d\n",
    "from lmath import Quaternionf, Quaterniond\n",
    "\n",
    "import meshcat\n",
    "import meshcat.geometry as g\n",
    "import meshcat.transformations as tf"
   ]
  },
  {
   "cell_type": "code",
   "execution_count": 14,
   "id": "d36305ac",
   "metadata": {},
   "outputs": [],
   "source": [
    "# Move these helper code to a separate helpers module\n",
    "GEOM_CYLINDER = g.Cylinder(1, 0.1)\n",
    "GEOM_SPHERE = g.Sphere(0.2)\n",
    "\n",
    "RED_MATERIAL = g.MeshPhongMaterial(color=0xff0000)\n",
    "GREEN_MATERIAL = g.MeshPhongMaterial(color=0x00ff00)\n",
    "BLUE_MATERIAL = g.MeshPhongMaterial(color=0x0000ff)\n",
    "GRAY_MATERIAL = g.MeshPhongMaterial(color=0x888888)\n",
    "\n",
    "class Frame:\n",
    "    def __init__(self, name: str,\n",
    "                 visualizer: meshcat.Visualizer,\n",
    "                 position: np.ndarray = np.array([0., 0., 0.]),\n",
    "                 orientation: np.ndarray = np.array([0., 0., 0., 1.])):\n",
    "        self._name = name\n",
    "        self._visualizer = visualizer\n",
    "        self._position = position\n",
    "        self._orientation = orientation\n",
    "        self._root = None\n",
    "        \n",
    "        self._requires_update_position = True\n",
    "        self._requires_update_orientation = True\n",
    "\n",
    "        self._buildFrame()\n",
    "    \n",
    "    def _buildFrame(self):\n",
    "        self._root = self._visualizer[self._name]\n",
    "        self._root.delete()\n",
    "        self._root['x_axis'].set_object(GEOM_CYLINDER, RED_MATERIAL)\n",
    "        self._root[\"x_axis\"].set_transform(tf.euler_matrix(0.0, 0.0, np.pi / 2) @ tf.translation_matrix([0.0, -0.5, 0.0]))\n",
    "        self._root[\"y_axis\"].set_object(GEOM_CYLINDER, GREEN_MATERIAL)\n",
    "        self._root[\"y_axis\"].set_transform(tf.translation_matrix([0.0, 0.5, 0.0]))\n",
    "        self._root[\"z_axis\"].set_object(GEOM_CYLINDER, BLUE_MATERIAL)\n",
    "        self._root[\"z_axis\"].set_transform(tf.euler_matrix(np.pi / 2, 0.0, 0.0) @ tf.translation_matrix([0.0, 0.5, 0.0]))\n",
    "        self._root[\"origin\"].set_object(GEOM_SPHERE, GRAY_MATERIAL)\n",
    "        \n",
    "        self._update()\n",
    "\n",
    "    @property\n",
    "    def position(self):\n",
    "        return self._position\n",
    "\n",
    "    @position.setter\n",
    "    def position(self, new_position: np.ndarray):\n",
    "        self._position = new_position\n",
    "        self._requires_update_position = True\n",
    "        self._update()\n",
    "        \n",
    "    @property\n",
    "    def orientation(self):\n",
    "        return self._orientation\n",
    "    \n",
    "    @orientation.setter\n",
    "    def orientation(self, new_orientation: np.ndarray):\n",
    "        self._orientation = new_orientation\n",
    "        self._requires_update_orientation = True\n",
    "        self._update()\n",
    "        \n",
    "    def _update(self):\n",
    "        if self._root is None:\n",
    "            return\n",
    "        if self._requires_update_position:\n",
    "            self._root.set_property(\"position\", list(self._position))\n",
    "            self._requires_update_position = False\n",
    "\n",
    "        if self._requires_update_orientation:\n",
    "            self._root.set_property(\"quaternion\", list(self._orientation))\n",
    "            self._requires_update_orientation = False\n",
    "\n",
    "def matrix_to_meshcat_format(mat: Matrix4d):\n",
    "    return mat.transpose()\n",
    "\n",
    "def quaternion_to_meshcat_format(quat: Quaterniond):\n",
    "    return np.array([quat.x, quat.y, quat.z, quat.w])"
   ]
  },
  {
   "cell_type": "code",
   "execution_count": 7,
   "id": "5a57fefe",
   "metadata": {},
   "outputs": [
    {
     "name": "stdout",
     "output_type": "stream",
     "text": [
      "You can open the visualizer by visiting the following URL:\n",
      "http://127.0.0.1:7000/static/\n"
     ]
    }
   ],
   "source": [
    "vis = meshcat.Visualizer()"
   ]
  },
  {
   "cell_type": "code",
   "execution_count": 8,
   "id": "d25b2f6d",
   "metadata": {},
   "outputs": [
    {
     "data": {
      "text/html": [
       "\n",
       "            <div style=\"height: 400px; width: 100%; overflow-x: auto; overflow-y: hidden; resize: both\">\n",
       "            <iframe src=\"http://127.0.0.1:7000/static/\" style=\"width: 100%; height: 100%; border: none\"></iframe>\n",
       "            </div>\n",
       "            "
      ],
      "text/plain": [
       "<IPython.core.display.HTML object>"
      ]
     },
     "execution_count": 8,
     "metadata": {},
     "output_type": "execute_result"
    }
   ],
   "source": [
    "vis.jupyter_cell()"
   ]
  },
  {
   "cell_type": "code",
   "execution_count": 32,
   "id": "af1ae971",
   "metadata": {},
   "outputs": [],
   "source": [
    "frame_base = Frame(\"frame_Base\", vis, np.array([0.0, 0.0, 2.0]))\n",
    "\n",
    "frame_a = Frame(\"frame_A\", vis,\n",
    "                np.array([2.0, 0.0, 0.0]),\n",
    "                quaternion_to_meshcat_format(Quaterniond.RotationX(np.pi / 2)))\n",
    "frame_b = Frame(\"frame_B\", vis,\n",
    "                np.array([0.0, 0.0, 0.0]),\n",
    "                quaternion_to_meshcat_format(Quaterniond.RotationY(np.pi / 2)))\n",
    "frame_c = Frame(\"frame_C\", vis,\n",
    "                np.array([-2.0, 0.0, 0.0]),\n",
    "                quaternion_to_meshcat_format(Quaterniond.RotationZ(np.pi / 2)))"
   ]
  },
  {
   "cell_type": "code",
   "execution_count": 33,
   "id": "4a5696fa",
   "metadata": {},
   "outputs": [],
   "source": [
    "for t in np.linspace(-np.pi, np.pi, 200):\n",
    "    frame_a.orientation = quaternion_to_meshcat_format(Quaterniond.RotationX(1.5 * np.pi + t))\n",
    "    frame_b.orientation = quaternion_to_meshcat_format(Quaterniond.RotationY(1.5 * np.pi + t))\n",
    "    frame_c.orientation = quaternion_to_meshcat_format(Quaterniond.RotationZ(1.5 * np.pi + t))\n",
    "    time.sleep(0.01)"
   ]
  },
  {
   "cell_type": "markdown",
   "id": "09f61873",
   "metadata": {},
   "source": [
    "## Quaternion  as rotations\n",
    "This section covers how we use $f(p)=q p q^{-1}$ for rotating a vector $p$ by a given quaternion $q$"
   ]
  },
  {
   "cell_type": "code",
   "execution_count": 26,
   "id": "653323a0",
   "metadata": {},
   "outputs": [],
   "source": [
    "# TODO(wilbert): complete this section :D"
   ]
  },
  {
   "cell_type": "markdown",
   "id": "2f6e457c",
   "metadata": {},
   "source": [
    "## Quaternion interpolation\n",
    "This section covers how to use **spherical linear interpolation** of quaternions"
   ]
  },
  {
   "cell_type": "code",
   "execution_count": 25,
   "id": "653c0863",
   "metadata": {},
   "outputs": [],
   "source": [
    "# TODO(wilbert): complete this section :D"
   ]
  }
 ],
 "metadata": {
  "kernelspec": {
   "display_name": "Python 3 (ipykernel)",
   "language": "python",
   "name": "python3"
  },
  "language_info": {
   "codemirror_mode": {
    "name": "ipython",
    "version": 3
   },
   "file_extension": ".py",
   "mimetype": "text/x-python",
   "name": "python",
   "nbconvert_exporter": "python",
   "pygments_lexer": "ipython3",
   "version": "3.9.13"
  }
 },
 "nbformat": 4,
 "nbformat_minor": 5
}
