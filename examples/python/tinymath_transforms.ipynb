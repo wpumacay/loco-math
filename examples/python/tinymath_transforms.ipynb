{
 "cells": [
  {
   "cell_type": "markdown",
   "metadata": {},
   "source": [
    "# Transforms\n",
    "This notebook explains the usage of helper methods to construct rotation matrices, and how \n",
    "to construct and compose transformation matrices."
   ]
  },
  {
   "cell_type": "markdown",
   "metadata": {},
   "source": [
    "## Rotation representations\n",
    "Tinymath provides some helpers to convert between the most commonly used rotation representations, namely:\n",
    "\n",
    "* **Euler angles** : representation is zyx-intrinsic in a Vector3X\n",
    "* **Quaternions** : representation is x-y-z-w in a Vector4X\n",
    "* **Axis-angle** : representation is a Vector3X unit-vector for the axis, and a float for the angle\n",
    "* **Rotation matrices** : representation is a Matrix3X"
   ]
  },
  {
   "cell_type": "code",
   "execution_count": 1,
   "metadata": {},
   "outputs": [],
   "source": [
    "# single import (everything is under the tinymath namespace)\n",
    "import tinymath as tm"
   ]
  },
  {
   "cell_type": "markdown",
   "metadata": {},
   "source": [
    "### From rotation matrix\n",
    "\n",
    "_Note_: use [this](https://www.andre-gaschler.com/rotationconverter/) 3d-rotation converter to create some samples."
   ]
  },
  {
   "cell_type": "code",
   "execution_count": 2,
   "metadata": {},
   "outputs": [
    {
     "name": "stdout",
     "output_type": "stream",
     "text": [
      "rotation-matrix:\n",
      "matrix(\n",
      "\r",
      "[ 0.492404\t-0.456826\t0.740843\t\n",
      "  0.586824\t0.802872\t0.105040\t\n",
      "  -0.642788\t0.383022\t0.663414 ])\n",
      "euler-angles(rads): vec([ 0.523599, 0.698132, 0.872665 ])\n",
      "euler-angles(degs): vec([ 30.000002, 39.999996, 50.000000 ])\n",
      "quaternion: vec([ 0.080805, 0.402199, 0.303372, 0.860042 ])\n",
      "axis-angle: (vec([ 0.158371, 0.788280, 0.594587 ]), 1.0708880424499512)\n"
     ]
    }
   ],
   "source": [
    "# define a rotation matrix (<> euler zyx (30°,40°,50°))\n",
    "rot = tm.Matrix3f( [ [ 0.4924039, -0.4568260,  0.7408431 ],\n",
    "                     [ 0.5868241,  0.8028724,  0.1050405 ],\n",
    "                     [-0.6427876,  0.3830222,  0.6634139 ] ] )\n",
    "print( 'rotation-matrix:' )\n",
    "print( rot )\n",
    "\n",
    "# convert to euler-angles\n",
    "print( 'euler-angles(rads): {}'.format( tm.euler( rot ) ) )\n",
    "print( 'euler-angles(degs): {}'.format( tm.euler( rot ) * ( 180. / 3.141592653589793 ) ) )\n",
    "# convert to quaternion\n",
    "print( 'quaternion: {}'.format( tm.quaternion( rot ) ) )\n",
    "# convert to axis-angle\n",
    "print( 'axis-angle: {}'.format( tm.axisAngle( rot ) ) )"
   ]
  },
  {
   "cell_type": "markdown",
   "metadata": {},
   "source": [
    "### To rotation matrix"
   ]
  },
  {
   "cell_type": "code",
   "execution_count": 10,
   "metadata": {},
   "outputs": [
    {
     "name": "stdout",
     "output_type": "stream",
     "text": [
      "rotation-matrix: \n",
      "\r",
      "matrix(\n",
      "\r",
      "[ 0.572061\t0.201527\t0.795068\t\n",
      "  0.415627\t0.764452\t-0.492816\t\n",
      "  -0.707107\t0.612372\t0.353553 ])\n"
     ]
    },
    {
     "data": {
      "application/vnd.jupyter.widget-view+json": {
       "model_id": "ec9187104dba4bffa5d5254c99035b5d",
       "version_major": 2,
       "version_minor": 0
      },
      "text/plain": [
       "interactive(children=(FloatSlider(value=1.5707963705062866, description='x_val', max=3.1415927410125732), Outp…"
      ]
     },
     "metadata": {},
     "output_type": "display_data"
    },
    {
     "data": {
      "text/plain": [
       "<function __main__.fcall(x_val)>"
      ]
     },
     "execution_count": 10,
     "metadata": {},
     "output_type": "execute_result"
    }
   ],
   "source": [
    "# convert euler-angles to rot-matrix\n",
    "euler_zyx = tm.Vector3f( [ tm.pi / 3., tm.pi / 4., tm.pi / 5. ] )\n",
    "## euler_zyx = tm.Vector3f( [ tm.pi / 3., 0.0, 0.0 ] )\n",
    "rotation_mat = tm.rotation( euler_zyx )\n",
    "print( 'rotation-matrix: \\n\\r{}'.format( rotation_mat ) )\n",
    "\n",
    "# make it interactive\n",
    "from ipywidgets import interact, interactive, fixed, interact_manual\n",
    "import ipywidgets as widgets\n",
    "\n",
    "def fcall( x_val ) :\n",
    "    global rotation_mal, euler_zyx\n",
    "    euler_zyx.x = x_val\n",
    "    rotation_mat = tm.rotation( euler_zyx )\n",
    "    print( 'euler-zyx: {}'.format( euler_zyx ) )\n",
    "    print( 'rotation-matrix: \\n\\r{}'.format( rotation_mat ) )\n",
    "\n",
    "interact( fcall, x_val = ( 0.0, tm.pi ) )"
   ]
  },
  {
   "cell_type": "code",
   "execution_count": 12,
   "metadata": {},
   "outputs": [
    {
     "name": "stdout",
     "output_type": "stream",
     "text": [
      "rotation-matrix: \n",
      "\r",
      "matrix(\n",
      "\r",
      "[ 1.000000\t0.000000\t0.000000\t\n",
      "  0.000000\t1.000000\t0.000000\t\n",
      "  0.000000\t0.000000\t1.000000 ])\n"
     ]
    }
   ],
   "source": [
    "# convert quaternion (normalized) to rot-matrix\n",
    "quat = tm.Vector4f( [ 0.0, 0.0, 0.0, 1.0 ] )\n",
    "rotation_mat = tm.rotation( quat )\n",
    "print( 'rotation-matrix: \\n\\r{}'.format( rotation_mat ) )"
   ]
  },
  {
   "cell_type": "code",
   "execution_count": 13,
   "metadata": {},
   "outputs": [
    {
     "name": "stdout",
     "output_type": "stream",
     "text": [
      "rotation-matrix: \n",
      "\r",
      "matrix(\n",
      "\r",
      "[ 0.759828\t-0.429706\t0.487868\t\n",
      "  0.570294\t0.800833\t-0.182843\t\n",
      "  -0.312132\t0.417157\t0.853553 ])\n"
     ]
    }
   ],
   "source": [
    "# convert axis-angle to rot-matrix\n",
    "axis, angle = tm.Vector3f( [ 0.3, 0.4, 0.5 ] ).normalized(), tm.pi / 4.\n",
    "rotation_mat = tm.rotation( axis, angle )\n",
    "print( 'rotation-matrix: \\n\\r{}'.format( rotation_mat ) )"
   ]
  }
 ],
 "metadata": {
  "kernelspec": {
   "display_name": "Python 3",
   "language": "python",
   "name": "python3"
  },
  "language_info": {
   "codemirror_mode": {
    "name": "ipython",
    "version": 3
   },
   "file_extension": ".py",
   "mimetype": "text/x-python",
   "name": "python",
   "nbconvert_exporter": "python",
   "pygments_lexer": "ipython3",
   "version": "3.6.9"
  }
 },
 "nbformat": 4,
 "nbformat_minor": 2
}
