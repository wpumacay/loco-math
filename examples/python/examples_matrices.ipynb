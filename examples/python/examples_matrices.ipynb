{
 "cells": [
  {
   "cell_type": "markdown",
   "id": "1b536cd4",
   "metadata": {},
   "source": [
    "# How to use the exposed Matrix API"
   ]
  },
  {
   "cell_type": "code",
   "execution_count": 1,
   "id": "a4922761",
   "metadata": {},
   "outputs": [],
   "source": [
    "import numpy as np\n",
    "\n",
    "from lmath import Vector2f, Vector3f, Vector4f\n",
    "from lmath import Vector2d, Vector3d, Vector4d\n",
    "from lmath import Matrix2f, Matrix3f, Matrix4f\n",
    "from lmath import Matrix2d, Matrix3d, Matrix4d"
   ]
  },
  {
   "cell_type": "markdown",
   "id": "a7bdd420",
   "metadata": {},
   "source": [
    "## Constructors"
   ]
  },
  {
   "cell_type": "markdown",
   "id": "fb9d4539",
   "metadata": {},
   "source": [
    "* Default: creates _Zero_ matrix\n",
    "* Diagonal entries: creates a diagonal matrix with the given elements on the diagonal\n",
    "* Full entries: creates a matrix from all its entries (4 for Matrix2, 9 for Matrix3, 16 for Matrix4)"
   ]
  },
  {
   "cell_type": "code",
   "execution_count": 2,
   "id": "d08baa86",
   "metadata": {},
   "outputs": [
    {
     "name": "stdout",
     "output_type": "stream",
     "text": [
      "mat a: \n",
      "Matrix2f([[0.0,0.0],\n",
      "          [0.0,0.0]])\n",
      "mat b: \n",
      "Matrix3f([[1.0,0.0,0.0],\n",
      "          [0.0,2.0,0.0],\n",
      "          [0.0,0.0,3.0]])\n",
      "mat c: \n",
      "Matrix4f([[1.0,2.0,3.0,4.0],\n",
      "          [5.0,6.0,7.0,8.0],\n",
      "          [9.0,10.0,11.0,12.0],\n",
      "          [13.0,14.0,15.0,16.0]])\n"
     ]
    }
   ],
   "source": [
    "mat_a = Matrix2f()\n",
    "mat_b = Matrix3f(1., 2., 3.)\n",
    "mat_c = Matrix4f(1., 2., 3., 4.,\n",
    "                 5., 6., 7., 8.,\n",
    "                 9., 10., 11., 12.,\n",
    "                 13., 14., 15., 16.)\n",
    "\n",
    "print(\"mat a: \\n{}\".format(mat_a))\n",
    "print(\"mat b: \\n{}\".format(mat_b))\n",
    "print(\"mat c: \\n{}\".format(mat_c))"
   ]
  },
  {
   "cell_type": "markdown",
   "id": "3be48f8a",
   "metadata": {},
   "source": [
    "## Buffer protocol\n",
    "These types follow the buffer protocol, so we can interoperate with numpy as well. Just be careful to use the appropriate format|type (e.g. `MatrixXf -> np.float32, MatrixXd -> np.float64`)\n"
   ]
  },
  {
   "cell_type": "code",
   "execution_count": 3,
   "id": "c1378e9b",
   "metadata": {},
   "outputs": [
    {
     "name": "stdout",
     "output_type": "stream",
     "text": [
      "mat: \n",
      "Matrix3f([[1.0,2.0,3.0],\n",
      "          [4.0,5.0,6.0],\n",
      "          [7.0,8.0,9.0]])\n",
      "np_array: \n",
      "[[2. 3.]\n",
      " [4. 5.]]\n",
      "dtype: float64\n"
     ]
    }
   ],
   "source": [
    "# Constructing from numpy-array\n",
    "np_array = np.array([[1., 2., 3.],\n",
    "                     [4., 5., 6.],\n",
    "                     [7., 8., 9.]], dtype=np.float32)\n",
    "mat = Matrix3f(np_array)\n",
    "print('mat: \\n{}'.format(mat))\n",
    "\n",
    "# Constructing from MatrixXY\n",
    "mat = Matrix2d(2., 3.,\n",
    "               4., 5.)\n",
    "np_array = np.array(mat)\n",
    "print(\"np_array: \\n{}\\ndtype: {}\".format(np_array, np_array.dtype))"
   ]
  },
  {
   "cell_type": "markdown",
   "id": "b84bebdb",
   "metadata": {},
   "source": [
    "## Get/Set item"
   ]
  },
  {
   "cell_type": "markdown",
   "id": "53bbcf28",
   "metadata": {},
   "source": [
    "Using get-item with a single index returns the requested column:"
   ]
  },
  {
   "cell_type": "code",
   "execution_count": 4,
   "id": "fa6c2aa6",
   "metadata": {},
   "outputs": [
    {
     "name": "stdout",
     "output_type": "stream",
     "text": [
      "mat: \n",
      "Matrix3f([[7.0,5.0,2.0],\n",
      "          [8.0,7.0,8.0],\n",
      "          [2.0,4.0,6.0]])\n",
      "column(0): Vector3f(x=7.0, y=8.0, z=2.0)\n",
      "column(1): Vector3f(x=5.0, y=7.0, z=4.0)\n",
      "column(2): Vector3f(x=2.0, y=8.0, z=6.0)\n"
     ]
    }
   ],
   "source": [
    "mat = Matrix3f(np.random.randint(0, 10, (3, 3)).astype(np.float32))\n",
    "print(f'mat: \\n{mat}')\n",
    "col0, col1, col2 = mat[0], mat[1], mat[2]\n",
    "print(f'column(0): {col0}')\n",
    "print(f'column(1): {col1}')\n",
    "print(f'column(2): {col2}')"
   ]
  },
  {
   "cell_type": "markdown",
   "id": "74877f1f",
   "metadata": {},
   "source": [
    "Using get-item with two indices returns the requested `(i,j)` entry of the matrix:"
   ]
  },
  {
   "cell_type": "code",
   "execution_count": 8,
   "id": "a8efeaf7",
   "metadata": {},
   "outputs": [
    {
     "name": "stdout",
     "output_type": "stream",
     "text": [
      "mat: \n",
      "Matrix4d([[1.0,17.0,17.0,14.0],\n",
      "          [8.0,0.0,13.0,19.0],\n",
      "          [7.0,17.0,17.0,4.0],\n",
      "          [17.0,13.0,14.0,1.0]])\n",
      "mat(1,2) = 13.0\n"
     ]
    }
   ],
   "source": [
    "mat = Matrix4d(np.random.randint(0, 20, (4, 4)).astype(np.float64))\n",
    "row, col = 1, 2\n",
    "print('mat: \\n{}'.format(mat))\n",
    "print('mat({},{}) = {}'.format(row, col, mat[row, col]))"
   ]
  },
  {
   "cell_type": "markdown",
   "id": "b64fc23e",
   "metadata": {},
   "source": [
    "## Operators"
   ]
  },
  {
   "cell_type": "code",
   "execution_count": null,
   "id": "4674a0e7",
   "metadata": {},
   "outputs": [],
   "source": []
  },
  {
   "cell_type": "markdown",
   "id": "8866190f",
   "metadata": {},
   "source": [
    "## Some exposed methods"
   ]
  }
 ],
 "metadata": {
  "kernelspec": {
   "display_name": "Python 3 (ipykernel)",
   "language": "python",
   "name": "python3"
  },
  "language_info": {
   "codemirror_mode": {
    "name": "ipython",
    "version": 3
   },
   "file_extension": ".py",
   "mimetype": "text/x-python",
   "name": "python",
   "nbconvert_exporter": "python",
   "pygments_lexer": "ipython3",
   "version": "3.9.13"
  }
 },
 "nbformat": 4,
 "nbformat_minor": 5
}
