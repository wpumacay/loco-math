{
 "cells": [
  {
   "cell_type": "markdown",
   "metadata": {},
   "source": [
    "[![Open In Colab](https://colab.research.google.com/assets/colab-badge.svg)](https://colab.research.google.com/github/wpumacay/tiny_math/blob/master/examples/python/tinymath_vectors.ipynb)"
   ]
  },
  {
   "cell_type": "code",
   "execution_count": null,
   "metadata": {},
   "outputs": [],
   "source": [
    "# in case not installed yet\n",
    "!pip install wp-tinymath"
   ]
  },
  {
   "cell_type": "markdown",
   "metadata": {},
   "source": [
    "# Vectors usage\n",
    "\n",
    "This notebook explains some simple operations that can be used with vectors.\n",
    "\n",
    "## Vector types\n",
    "\n",
    "Tinymath provides 2,3, and 4 dimensional vectors and each comes in a separate format (float32, float64), so we have the following vector types:\n",
    "\n",
    "* **Vector2f, Vector2d** : 2-dim vectors, with single and double precision internal types respectively.\n",
    "* **Vector3f, Vector3d** : 3-dim vectors, with single and double precision internal types respectively.\n",
    "* **Vector4f, Vector4d** : 4-dim vectors, with single and double precision internal types respectively."
   ]
  },
  {
   "cell_type": "code",
   "execution_count": 1,
   "metadata": {},
   "outputs": [],
   "source": [
    "# single import (everything is under the tinymath namespace)\n",
    "import tinymath as tm"
   ]
  },
  {
   "cell_type": "markdown",
   "metadata": {},
   "source": [
    "### Constructors"
   ]
  },
  {
   "cell_type": "code",
   "execution_count": 2,
   "metadata": {},
   "outputs": [
    {
     "name": "stdout",
     "output_type": "stream",
     "text": [
      "v0: vec([ 0.000000, 0.000000 ])\n",
      "v1: vec([ 0.500000, 0.500000, 0.500000 ])\n",
      "v2: vec([ 1.000000, 2.000000, 3.000000, 4.000000 ])\n",
      "vn: vec([ 0.400000, 0.600000, 0.800000, 1.000000 ])\n",
      "vn_1: vec([ 1.000000, 0.500000, 0.250000 ])\n"
     ]
    }
   ],
   "source": [
    "# empty constructor (initializes to zeros)\n",
    "v0 = tm.Vector2f()\n",
    "print( 'v0: {}'.format( v0 ) )\n",
    "# from-value constructor (all values to given value)\n",
    "v1 = tm.Vector3f( 0.5 )\n",
    "print( 'v1: {}'.format( v1 ) )\n",
    "# from-iterable constructor\n",
    "v2 = tm.Vector4f( [1.0, 2.0, 3.0, 4.0] )\n",
    "print( 'v2: {}'.format( v2 ) )\n",
    "# from n-1 dim vector\n",
    "vn = tm.Vector4f( tm.Vector3f( [0.4,0.6,0.8] ), 1.0 )\n",
    "print( 'vn: {}'.format( vn ) )\n",
    "# from n+1 dim vector\n",
    "vn_1 = tm.Vector3f( tm.Vector4f( [1.0,0.5,0.25,0.125] ) )\n",
    "print( 'vn_1: {}'.format( vn_1 ) )"
   ]
  },
  {
   "cell_type": "markdown",
   "metadata": {},
   "source": [
    "### Accessors (array-like)"
   ]
  },
  {
   "cell_type": "code",
   "execution_count": 3,
   "metadata": {},
   "outputs": [
    {
     "name": "stdout",
     "output_type": "stream",
     "text": [
      "v0[1]: 0.0\n",
      "v1[0]: 0.5\n",
      "v2[3]: 4.0\n",
      "after modifying entries\n",
      "v0[1]: 2.0\n",
      "v1[0]: 1.5\n",
      "v2[3]: 3.0\n"
     ]
    }
   ],
   "source": [
    "# access value using index\n",
    "print( 'v0[1]: {}'.format( v0[1] ) )\n",
    "print( 'v1[0]: {}'.format( v1[0] ) )\n",
    "print( 'v2[3]: {}'.format( v2[3] ) )\n",
    "\n",
    "# modify value using index\n",
    "v0[1] = 2.0\n",
    "v1[0] += 1.0\n",
    "v2[3] -= 1.0\n",
    "print( 'after modifying entries' )\n",
    "print( 'v0[1]: {}'.format( v0[1] ) )\n",
    "print( 'v1[0]: {}'.format( v1[0] ) )\n",
    "print( 'v2[3]: {}'.format( v2[3] ) )"
   ]
  },
  {
   "cell_type": "markdown",
   "metadata": {},
   "source": [
    "### Accessors (x,y,z,w)"
   ]
  },
  {
   "cell_type": "code",
   "execution_count": 4,
   "metadata": {},
   "outputs": [
    {
     "name": "stdout",
     "output_type": "stream",
     "text": [
      "v0.x: 0.0\n",
      "v1.z: 0.5\n",
      "v2.w: 3.0\n"
     ]
    }
   ],
   "source": [
    "# access x component of vec2\n",
    "print( 'v0.x: {}'.format( v0.x ) )\n",
    "# access z component of vec3\n",
    "print( 'v1.z: {}'.format( v1.z ) )\n",
    "# access w component of vec4\n",
    "print( 'v2.w: {}'.format( v2.w ) )\n",
    "\n",
    "# accessing \"non-existent\" element throws runtime error, e.g. z-element of 2-d vector\n",
    "## print( 'v0.z: {}'.format( v0.z ) )"
   ]
  },
  {
   "cell_type": "markdown",
   "metadata": {},
   "source": [
    "### Helper methods"
   ]
  },
  {
   "cell_type": "code",
   "execution_count": 5,
   "metadata": {},
   "outputs": [
    {
     "name": "stdout",
     "output_type": "stream",
     "text": [
      "\n",
      "\r",
      "method: length *****************************\n",
      "v: vec([ 0.500000, 0.500000, 0.500000 ])\n",
      "||v||: 0.8660253882408142\n",
      "\n",
      "\r",
      "method: normalized *************************\n",
      "v: vec([ 0.500000, 0.500000, 0.500000 ])\n",
      "u(v): vec([ 0.577350, 0.577350, 0.577350 ])\n",
      "\n",
      "\r",
      "method: normalize (in-place) ***************\n",
      "u(v): vec([ 0.577350, 0.577350, 0.577350 ])\n",
      "\n",
      "\r",
      "method: scaled *****************************\n",
      "a: vec([ 1.000000, 2.000000 ]), a.scaled(2): vec([ 2.000000, 4.000000 ])\n",
      "a: vec([ 1.000000, 2.000000 ]), a.scaled(b): vec([ 0.500000, 7.000000 ])\n",
      "\n",
      "\r",
      "method: dot-product ************************\n",
      "a: vec([ 1.000000, 2.000000, 3.000000 ]), b: vec([ 2.000000, 3.000000, 4.000000 ])\n",
      "a.dot(b): 20.0\n"
     ]
    }
   ],
   "source": [
    "# length (norm-2)\n",
    "print( '\\n\\rmethod: length *****************************' )\n",
    "v = tm.Vector3f( 0.5 )\n",
    "print( 'v: {}'.format( v ) )\n",
    "print( '||v||: {}'.format( v.length() ) )\n",
    "\n",
    "# normalized (unit-vector)\n",
    "print( '\\n\\rmethod: normalized *************************' )\n",
    "print( 'v: {}'.format( v ) )\n",
    "print( 'u(v): {}'.format( v.normalized() ) )\n",
    "\n",
    "# normalize in-place\n",
    "print( '\\n\\rmethod: normalize (in-place) ***************' )\n",
    "v.normalize()\n",
    "print( 'u(v): {}'.format( v ) )\n",
    "\n",
    "# scaled\n",
    "print( '\\n\\rmethod: scaled *****************************' )\n",
    "vec2_a = tm.Vector2f( [1., 2.] )\n",
    "print( 'a: {}, a.scaled(2): {}'.format( vec2_a, vec2_a.scaled( 2 ) ) )\n",
    "vec2_b = tm.Vector2f( [0.5, 3.5] )\n",
    "print( 'a: {}, a.scaled(b): {}'.format( vec2_a, vec2_a.scaled( vec2_b ) ) )\n",
    "\n",
    "# dot-product\n",
    "print( '\\n\\rmethod: dot-product ************************' )\n",
    "vec3_a = tm.Vector3f( [1., 2., 3.] )\n",
    "vec3_b = tm.Vector3f( [2., 3., 4.] )\n",
    "print( 'a: {}, b: {}'.format( vec3_a, vec3_b ) )\n",
    "print( 'a.dot(b): {}'.format( vec3_a.dot( vec3_b ) ) )\n"
   ]
  },
  {
   "cell_type": "markdown",
   "metadata": {},
   "source": [
    "### Math operations"
   ]
  },
  {
   "cell_type": "code",
   "execution_count": 6,
   "metadata": {},
   "outputs": [
    {
     "name": "stdout",
     "output_type": "stream",
     "text": [
      "vec([ 3.500000, -5.500000, -28.500000 ])\n"
     ]
    }
   ],
   "source": [
    "# just as usual :D (just vector-vector product returns element-wise product)\n",
    "vec_a = tm.Vector3f( [2.0, 3.0, 1.0] )\n",
    "vec_b = tm.Vector3f( [2.5, 1.5, 0.5] )\n",
    "vec_c = tm.Vector3f( [1.0, 2.0, 4.0] )\n",
    "vec_d = tm.Vector3f( [2.0, 2.0, 2.0] )\n",
    "# 2 * a + 3 * b - 4 * c * d\n",
    "print( 2 * vec_a + 3 * vec_b - 4 * vec_c * vec_d )"
   ]
  },
  {
   "cell_type": "markdown",
   "metadata": {},
   "source": [
    "### Interchange with numpy\n",
    "Vectors implement the buffer protocol, so it's quite straightforward to interchange objects. Just keep in mind that a VectorXf uses single precision floats in the internal buffer, so numpy arrays with different formats are casted to floats, and float32 numpy arrays are returned when converting in the opposite way. Vectors of type VectorXd have a similar behaviour."
   ]
  },
  {
   "cell_type": "code",
   "execution_count": 7,
   "metadata": {},
   "outputs": [
    {
     "name": "stdout",
     "output_type": "stream",
     "text": [
      "np_vec: [1. 2. 3.], type: float64\n",
      "tm_vec: vec([ 1.000000, 2.000000, 3.000000 ])\n",
      "np_vec_back: [1. 2. 3.], type: float32\n"
     ]
    }
   ],
   "source": [
    "import numpy as np\n",
    "np_vec = np.array( [1.,2.,3.], np.float64 )\n",
    "tm_vec = tm.Vector3f( np_vec )\n",
    "np_vec_back = np.array( tm_vec )\n",
    "print( 'np_vec: {}, type: {}'.format( np_vec, np_vec.dtype ) )\n",
    "print( 'tm_vec: {}'.format( tm_vec ) )\n",
    "print( 'np_vec_back: {}, type: {}'.format( np_vec_back, np_vec_back.dtype ) )"
   ]
  }
 ],
 "metadata": {
  "kernelspec": {
   "display_name": "Python 3",
   "language": "python",
   "name": "python3"
  },
  "language_info": {
   "codemirror_mode": {
    "name": "ipython",
    "version": 3
   },
   "file_extension": ".py",
   "mimetype": "text/x-python",
   "name": "python",
   "nbconvert_exporter": "python",
   "pygments_lexer": "ipython3",
   "version": "3.6.9"
  }
 },
 "nbformat": 4,
 "nbformat_minor": 2
}
