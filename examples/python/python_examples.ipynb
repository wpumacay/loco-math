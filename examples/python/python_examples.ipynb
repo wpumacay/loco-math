{
 "cells": [
  {
   "cell_type": "markdown",
   "id": "9cf67b59",
   "metadata": {},
   "source": [
    "# How to use the exposed Vector and Matrix types"
   ]
  },
  {
   "cell_type": "markdown",
   "id": "2121f220",
   "metadata": {},
   "source": [
    "## Constructors"
   ]
  },
  {
   "cell_type": "code",
   "execution_count": 2,
   "id": "8150f13e",
   "metadata": {},
   "outputs": [],
   "source": [
    "import numpy as np\n",
    "\n",
    "from lmath import Vector2f, Vector3f, Vector4f"
   ]
  },
  {
   "cell_type": "code",
   "execution_count": 3,
   "id": "b583feeb",
   "metadata": {},
   "outputs": [
    {
     "name": "stdout",
     "output_type": "stream",
     "text": [
      "a_1: Vector2f(x=0.0, y=0.0)\n",
      "a_2: Vector2f(x=2.0, y=2.0)\n",
      "a_3: Vector2f(x=3.0, y=4.0)\n"
     ]
    }
   ],
   "source": [
    "# Three main constructors\n",
    "a_1 = Vector2f()\n",
    "a_2 = Vector2f(2)\n",
    "a_3 = Vector2f(3, 4)\n",
    "print(\"a_1: {}\".format(a_1))\n",
    "print(\"a_2: {}\".format(a_2))\n",
    "print(\"a_3: {}\".format(a_3))"
   ]
  },
  {
   "cell_type": "markdown",
   "id": "dd87f98a",
   "metadata": {},
   "source": [
    "### Buffer protocol\n",
    "These types follow the buffer protocol, so we can interoperate with numpy as well. Just be careful to use the appropriate format|type (e.g. `VectorXf -> np.float32, VectorXd -> np.float64`)\n"
   ]
  },
  {
   "cell_type": "code",
   "execution_count": 4,
   "id": "e9e8f32e",
   "metadata": {},
   "outputs": [
    {
     "name": "stdout",
     "output_type": "stream",
     "text": [
      "vector from numpy array: Vector2f(x=1.0, y=2.0)\n",
      "Numpy array from vector: [3. 4.], dtype=float32\n"
     ]
    }
   ],
   "source": [
    "# Constructing from a numpy array\n",
    "np_array = np.array([1., 2.], dtype=np.float32)\n",
    "vec_from_np = Vector2f(np_array)\n",
    "print(\"vector from numpy array: {}\".format(vec_from_np))\n",
    "\n",
    "# Passing to a numpy array\n",
    "vec = Vector2f(3., 4.)\n",
    "nparray_from_vec = np.array(vec)\n",
    "print(\"Numpy array from vector: {}, dtype={}\".format(\n",
    "    nparray_from_vec, nparray_from_vec.dtype))"
   ]
  },
  {
   "cell_type": "markdown",
   "id": "f467502b",
   "metadata": {},
   "source": [
    "### Properties\n",
    "All entries of the vector are exposed by its coordinate name as properties (e.g. `vec.x`)"
   ]
  },
  {
   "cell_type": "code",
   "execution_count": 5,
   "id": "958c9c70",
   "metadata": {},
   "outputs": [
    {
     "name": "stdout",
     "output_type": "stream",
     "text": [
      "Vector entries: x=1.0,y=3.0,z=5.0,w=7.0\n",
      "Updated vector: Vector4f(x=2.0, y=4.0, z=6.0, w=8.0)\n"
     ]
    }
   ],
   "source": [
    "vec = Vector4f(1., 3., 5., 7.)\n",
    "# Read x, y, z, and w\n",
    "print(\"Vector entries: x={},y={},z={},w={}\".format(vec.x, vec.y, vec.z, vec.w))\n",
    "# Write to x, y, z, and w\n",
    "vec.x, vec.y, vec.z, vec.w = 2., 4., 6., 8.\n",
    "print(\"Updated vector: {}\".format(vec))"
   ]
  },
  {
   "cell_type": "markdown",
   "id": "a735ed38",
   "metadata": {},
   "source": [
    "### Get/Set item\n",
    "We can also access the vector entries via the buffer directly using `__getitem__` and `__setitem__` (e.g. `vec[0]`)"
   ]
  },
  {
   "cell_type": "code",
   "execution_count": 8,
   "id": "c1a845b1",
   "metadata": {},
   "outputs": [
    {
     "name": "stdout",
     "output_type": "stream",
     "text": [
      "0.0 0.0 0.0\n",
      "1.0 2.0 3.0\n"
     ]
    }
   ],
   "source": [
    "vec = Vector3f()\n",
    "print(vec[0], vec[1], vec[2])\n",
    "vec[0], vec[1], vec[2] = 1, 2, 3\n",
    "print(vec[0], vec[1], vec[2])"
   ]
  },
  {
   "cell_type": "markdown",
   "id": "9dcdaa81",
   "metadata": {},
   "source": [
    "### Operators\n",
    "We exposed some math operations available for vectors, such as:\n",
    "* Addition (`+`)\n",
    "* Substraction (`-`)\n",
    "* Scalar multiplication (`*`)\n"
   ]
  }
 ],
 "metadata": {
  "kernelspec": {
   "display_name": "Python 3 (ipykernel)",
   "language": "python",
   "name": "python3"
  },
  "language_info": {
   "codemirror_mode": {
    "name": "ipython",
    "version": 3
   },
   "file_extension": ".py",
   "mimetype": "text/x-python",
   "name": "python",
   "nbconvert_exporter": "python",
   "pygments_lexer": "ipython3",
   "version": "3.9.13"
  }
 },
 "nbformat": 4,
 "nbformat_minor": 5
}
