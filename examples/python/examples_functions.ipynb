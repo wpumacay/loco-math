{
 "cells": [
  {
   "cell_type": "markdown",
   "id": "ca480477",
   "metadata": {},
   "source": [
    "# How to use the exposed factory functions for Matrix types"
   ]
  },
  {
   "cell_type": "code",
   "execution_count": 14,
   "id": "344202be",
   "metadata": {},
   "outputs": [],
   "source": [
    "import numpy as np\n",
    "import ipywidgets as widgets\n",
    "from matplotlib import pyplot as plt\n",
    "from IPython.display import display\n",
    "\n",
    "from lmath import Vector2f, Vector3f, Vector4f\n",
    "from lmath import Vector2d, Vector3d, Vector4d\n",
    "from lmath import Matrix2f, Matrix3f, Matrix4f\n",
    "from lmath import Matrix2d, Matrix3d, Matrix4d\n",
    "\n",
    "%matplotlib inline"
   ]
  },
  {
   "cell_type": "markdown",
   "id": "d1ba5e50",
   "metadata": {},
   "source": [
    "## Rotation matrices (2d)"
   ]
  },
  {
   "cell_type": "code",
   "execution_count": 18,
   "id": "9c4146c0",
   "metadata": {},
   "outputs": [
    {
     "data": {
      "application/vnd.jupyter.widget-view+json": {
       "model_id": "1d33347e21024965808aec7456217039",
       "version_major": 2,
       "version_minor": 0
      },
      "text/plain": [
       "FloatSlider(value=0.0, max=3.141592653589793, min=-3.141592653589793, step=0.01)"
      ]
     },
     "metadata": {},
     "output_type": "display_data"
    }
   ],
   "source": [
    "w_angle = widgets.FloatSlider(0, min=-np.pi, max=np.pi, step=0.01)\n",
    "display(w_angle)"
   ]
  },
  {
   "cell_type": "code",
   "execution_count": 24,
   "id": "6e93ea7b",
   "metadata": {},
   "outputs": [
    {
     "data": {
      "text/plain": [
       "Text(-1.0, -8.742277657347586e-08, 'rotated')"
      ]
     },
     "execution_count": 24,
     "metadata": {},
     "output_type": "execute_result"
    },
    {
     "data": {
      "image/png": "[encoded data removed]",
      "text/plain": [
       "<Figure size 432x288 with 1 Axes>"
      ]
     },
     "metadata": {
      "needs_background": "light"
     },
     "output_type": "display_data"
    }
   ],
   "source": [
    "mat = Matrix2f.Rotation(w_angle.value)\n",
    "vec = Vector2f(1.0, 0.0) # x unit vector\n",
    "vec_r = mat * vec\n",
    "plt.plot([vec.x], [vec.y], 'bo')\n",
    "plt.plot([vec_r.x], [vec_r.y], 'ro')\n",
    "plt.axis([-2, 2, -2, 2])\n",
    "plt.grid(True)\n",
    "plt.annotate(\"original\", xy=vec)\n",
    "plt.annotate(\"rotated\", xy=vec_r)"
   ]
  }
 ],
 "metadata": {
  "kernelspec": {
   "display_name": "Python 3 (ipykernel)",
   "language": "python",
   "name": "python3"
  },
  "language_info": {
   "codemirror_mode": {
    "name": "ipython",
    "version": 3
   },
   "file_extension": ".py",
   "mimetype": "text/x-python",
   "name": "python",
   "nbconvert_exporter": "python",
   "pygments_lexer": "ipython3",
   "version": "3.9.13"
  }
 },
 "nbformat": 4,
 "nbformat_minor": 5
}
