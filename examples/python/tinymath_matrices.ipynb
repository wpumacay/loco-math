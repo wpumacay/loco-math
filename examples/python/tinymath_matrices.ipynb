{
 "cells": [
  {
   "cell_type": "markdown",
   "metadata": {},
   "source": [
    "[![Open In Colab](https://colab.research.google.com/assets/colab-badge.svg)](https://colab.research.google.com/github/wpumacay/tiny_math/blob/master/examples/python/tinymath_matrices.ipynb)"
   ]
  },
  {
   "cell_type": "code",
   "execution_count": null,
   "metadata": {},
   "outputs": [],
   "source": [
    "# in case not installed yet\n",
    "!pip install wp-tinymath"
   ]
  },
  {
   "cell_type": "markdown",
   "metadata": {},
   "source": [
    "# Matrices usage\n",
    "This notebook explains some simple operations that can be used with matrices\n",
    "\n",
    "## Matrix types\n",
    "In a similar way to vectors, matrices come in 2x2, 3x3 and 4x4 square matrices, each supporting either float32 or float64 data types (the elements of the matrix are stored internally in a column major order, just in case you need to use the C++ API). We then have the following available types:\n",
    "\n",
    "* Matrix2f, Matrix2d: 2x2 matrices, with single and double precision internal types respectively.\n",
    "* Matrix3f, Matrix3d: 3x3 matrices, with single and double precision internal types respectively.\n",
    "* Matrix4f, Matrix4d: 4x4 matrices, with single and double precision internal types respectively."
   ]
  },
  {
   "cell_type": "code",
   "execution_count": 1,
   "metadata": {},
   "outputs": [],
   "source": [
    "# single import (everything is under the tinymath namespace)\n",
    "import tinymath as tm"
   ]
  },
  {
   "cell_type": "markdown",
   "metadata": {},
   "source": [
    "### Constructors"
   ]
  },
  {
   "cell_type": "code",
   "execution_count": 2,
   "metadata": {},
   "outputs": [
    {
     "name": "stdout",
     "output_type": "stream",
     "text": [
      "m0: matrix(\n",
      "\r",
      "[ 1.000000\t0.000000\t\n",
      "  0.000000\t1.000000 ])\n",
      "m1: matrix(\n",
      "\r",
      "[ 1.000000\t2.000000\t3.000000\t\n",
      "  4.000000\t5.000000\t6.000000\t\n",
      "  7.000000\t8.000000\t9.000000 ])\n",
      "m2: matrix(\n",
      "\r",
      "[ 1.000000\t2.000000\t\n",
      "  4.000000\t5.000000 ])\n",
      "m3: matrix(\n",
      "\r",
      "[ 1.000000\t2.000000\t\n",
      "  4.000000\t5.000000 ])\n",
      "m4: matrix(\n",
      "\r",
      "[ 1.000000\t2.000000\t3.000000\t0.500000\t\n",
      "  4.000000\t5.000000\t6.000000\t0.250000\t\n",
      "  7.000000\t8.000000\t9.000000\t0.125000\t\n",
      "  0.000000\t0.000000\t0.000000\t1.000000 ])\n"
     ]
    }
   ],
   "source": [
    "# empty constructor (initializes to identity matrix)\n",
    "m0 = tm.Matrix2f()\n",
    "print( 'm0: {}'.format( m0 ) )\n",
    "# from array-like matrix\n",
    "m1 = tm.Matrix3f( [ [ 1.0, 2.0, 3.0 ],\n",
    "                    [ 4.0, 5.0, 6.0 ],\n",
    "                    [ 7.0, 8.0, 9.0 ] ] )\n",
    "print( 'm1: {}'.format( m1 ) )\n",
    "# from bigger than array-like matrix (the upper-left square section is grabbed)\n",
    "m2 = tm.Matrix2f( [ [ 1.0, 2.0, 3.0 ],\n",
    "                    [ 4.0, 5.0, 6.0 ] ] )\n",
    "print( 'm2: {}'.format( m2 ) )\n",
    "m3 = tm.Matrix2f( [ [ 1.0, 2.0 ],\n",
    "                    [ 4.0, 5.0 ],\n",
    "                    [ 100.0, 100.0 ] ] )\n",
    "print( 'm3: {}'.format( m3 ) )\n",
    "# from (n-1)x(n-1) upper-left matrix and (n-1) vector for last column\n",
    "# (useful to construct 4x4 transformation matrices from rotation and position)\n",
    "m4 = tm.Matrix4f( [ [ 1.0, 2.0, 3.0 ],\n",
    "                    [ 4.0, 5.0, 6.0 ],\n",
    "                    [ 7.0, 8.0, 9.0 ] ], [ 0.5, 0.25, 0.125 ] )\n",
    "print( 'm4: {}'.format( m4 ) )"
   ]
  },
  {
   "cell_type": "markdown",
   "metadata": {},
   "source": [
    "### Accessors"
   ]
  },
  {
   "cell_type": "code",
   "execution_count": 3,
   "metadata": {},
   "outputs": [
    {
     "name": "stdout",
     "output_type": "stream",
     "text": [
      "mat[0,1]: 2.0\n",
      "mat[0,1]: 2.5\n",
      "mat[0,:]: vec([ 1.000000, 2.500000, 3.000000 ])\n",
      "mat[:,1]: vec([ 2.500000, 5.000000, 8.000000 ])\n",
      "mat: matrix(\n",
      "\r",
      "[ -1.000000\t2.500000\t3.000000\t\n",
      "  -4.000000\t5.000000\t6.000000\t\n",
      "  -7.000000\t8.000000\t9.000000 ])\n",
      "mat: matrix(\n",
      "\r",
      "[ -1.000000\t2.500000\t-3.000000\t\n",
      "  -4.000000\t5.000000\t-6.000000\t\n",
      "  -7.000000\t8.000000\t9.000000 ])\n",
      "mat: matrix(\n",
      "\r",
      "[ 10.000000\t20.000000\t-3.000000\t\n",
      "  30.000000\t40.000000\t-6.000000\t\n",
      "  -7.000000\t8.000000\t9.000000 ])\n"
     ]
    }
   ],
   "source": [
    "# get element (i,j) using mat[i,j]\n",
    "mat = tm.Matrix3f( [ [ 1.0, 2.0, 3.0 ],\n",
    "                     [ 4.0, 5.0, 6.0 ],\n",
    "                     [ 7.0, 8.0, 9.0 ] ] )\n",
    "print( 'mat[0,1]: {}'.format( mat[0,1] ) )\n",
    "# set element (i,j) using mat[i,j] = value\n",
    "mat[0,1] *= 1.25\n",
    "print( 'mat[0,1]: {}'.format( mat[0,1] ) )\n",
    "# get row using mat.row(row_index) method (index starts at 0)\n",
    "print( 'mat[0,:]: {}'.format( mat.row( 0 ) ) )\n",
    "# get column using mat.col(col_index) method\n",
    "print( 'mat[:,1]: {}'.format( mat.col( 1 ) ) )\n",
    "# set column using mat.set( col_vector, index )\n",
    "mat.set( tm.Vector3f( [ -1.0, -4.0, -7.0 ] ), 0 )\n",
    "print( 'mat: {}'.format( mat ) )\n",
    "# set top (n-1) elements of column using mat.set( col_vector_n_1, index )\n",
    "mat.set( tm.Vector2f( [-3., -6.] ), 2 )\n",
    "print( 'mat: {}'.format( mat ) )\n",
    "# set upper-left (n-1)x(n-1) portion of matrix using mat.set( mat_n_1 )\n",
    "mat.set( tm.Matrix2f( [ [10., 20.],\n",
    "                        [30., 40.] ] ) )\n",
    "print( 'mat: {}'.format( mat ) )"
   ]
  },
  {
   "cell_type": "markdown",
   "metadata": {},
   "source": [
    "### Properties (read_only)"
   ]
  },
  {
   "cell_type": "code",
   "execution_count": 4,
   "metadata": {},
   "outputs": [
    {
     "name": "stdout",
     "output_type": "stream",
     "text": [
      "nrows: 3\n",
      "ncols: 3\n",
      "ndims: 2\n",
      "shape: (3, 3)\n"
     ]
    }
   ],
   "source": [
    "print( 'nrows: {}'.format( mat.nrows ) )\n",
    "print( 'ncols: {}'.format( mat.ncols ) )\n",
    "print( 'ndims: {}'.format( mat.ndims ) )\n",
    "print( 'shape: {}'.format( mat.shape ) )"
   ]
  },
  {
   "cell_type": "markdown",
   "metadata": {},
   "source": [
    "### Helper methods"
   ]
  },
  {
   "cell_type": "code",
   "execution_count": 5,
   "metadata": {},
   "outputs": [
    {
     "name": "stdout",
     "output_type": "stream",
     "text": [
      "matrix(\n",
      "\r",
      "[ 1.000000\t0.000000\t0.000000\t\n",
      "  0.000000\t1.000000\t0.000000\t\n",
      "  0.000000\t0.000000\t1.000000 ])\n",
      "matrix(\n",
      "\r",
      "[ 0.000000\t0.000000\t0.000000\t\n",
      "  0.000000\t0.000000\t0.000000\t\n",
      "  0.000000\t0.000000\t0.000000 ])\n",
      "mat_t: matrix(\n",
      "\r",
      "[ 1.000000\t4.000000\t7.000000\t\n",
      "  2.000000\t5.000000\t8.000000\t\n",
      "  3.000000\t6.000000\t9.000000 ])\n",
      "mat: matrix(\n",
      "\r",
      "[ 1.000000\t4.000000\t7.000000\t\n",
      "  2.000000\t5.000000\t8.000000\t\n",
      "  3.000000\t6.000000\t9.000000 ])\n",
      "inv(mat): matrix(\n",
      "\r",
      "[ -0.125000\t0.375000\t-0.750000\t\n",
      "  0.333333\t-0.333333\t0.500000\t\n",
      "  -0.166667\t0.166667\t-0.000000 ])\n"
     ]
    }
   ],
   "source": [
    "mat.setIdentity() # sets elements to I(nxn)\n",
    "print( mat )\n",
    "mat.setZero() # sets elements to Zero(nxn)\n",
    "print( mat )\n",
    "mat = tm.Matrix3f( [ [ 1.0, 2.0, 3.0 ],\n",
    "                     [ 4.0, 5.0, 6.0 ],\n",
    "                     [ 7.0, 8.0, 9.0 ] ] )\n",
    "mat_t = mat.transpose() # returns the transpose of the matrix\n",
    "print( 'mat_t: {}'.format( mat_t ) )\n",
    "mat.transpose_() # transposes matrix in-place\n",
    "print( 'mat: {}'.format( mat ) )\n",
    "mat = tm.Matrix3f( [ [4., 6., 3.],\n",
    "                     [4., 6., 9.],\n",
    "                     [0., 2., 4.] ] )\n",
    "mat_inv = mat.inverse() # returns the inverse of the matrix\n",
    "print( 'inv(mat): {}'.format( mat_inv ) )"
   ]
  },
  {
   "cell_type": "markdown",
   "metadata": {},
   "source": [
    "### Math operations"
   ]
  },
  {
   "cell_type": "code",
   "execution_count": 6,
   "metadata": {},
   "outputs": [
    {
     "name": "stdout",
     "output_type": "stream",
     "text": [
      "a: matrix(\n",
      "\r",
      "[ 1.000000\t2.000000\t\n",
      "  3.000000\t4.000000 ])\n",
      "b: matrix(\n",
      "\r",
      "[ 0.100000\t0.200000\t\n",
      "  0.300000\t0.400000 ])\n",
      "vec: vec([ 1.000000, 1.000000 ])\n",
      "a + b: matrix(\n",
      "\r",
      "[ 1.100000\t2.200000\t\n",
      "  3.300000\t4.400000 ])\n",
      "a - b: matrix(\n",
      "\r",
      "[ 0.900000\t1.800000\t\n",
      "  2.700000\t3.600000 ])\n",
      "a * b: matrix(\n",
      "\r",
      "[ 0.700000\t1.000000\t\n",
      "  1.500000\t2.200000 ])\n",
      "2 * a: matrix(\n",
      "\r",
      "[ 2.000000\t4.000000\t\n",
      "  6.000000\t8.000000 ])\n",
      "b * 3: matrix(\n",
      "\r",
      "[ 0.300000\t0.600000\t\n",
      "  0.900000\t1.200000 ])\n",
      "a * vec: vec([ 3.000000, 7.000000 ])\n"
     ]
    }
   ],
   "source": [
    "# just as usual :D ( just matrix-matrix product returns \n",
    "# true matrix-matrix product, not element-wise product )\n",
    "mat_a = tm.Matrix2f( [[1.,2.],[3.,4.]] )\n",
    "mat_b = tm.Matrix2f( [[0.1,0.2],[0.3,0.4]] )\n",
    "vec = tm.Vector2f( [1.,1.] )\n",
    "print( 'a: {}'.format( mat_a ) )\n",
    "print( 'b: {}'.format( mat_b ) )\n",
    "print( 'vec: {}'.format( vec ) )\n",
    "print( 'a + b: {}'.format( mat_a + mat_b ) )\n",
    "print( 'a - b: {}'.format( mat_a - mat_b ) )\n",
    "print( 'a * b: {}'.format( mat_a * mat_b ) )\n",
    "print( '2 * a: {}'.format( 2.0 * mat_a ) )\n",
    "print( 'b * 3: {}'.format( mat_b * 3.0 ) )\n",
    "print( 'a * vec: {}'.format( mat_a * vec ) )"
   ]
  }
 ],
 "metadata": {
  "kernelspec": {
   "display_name": "Python 3",
   "language": "python",
   "name": "python3"
  },
  "language_info": {
   "codemirror_mode": {
    "name": "ipython",
    "version": 3
   },
   "file_extension": ".py",
   "mimetype": "text/x-python",
   "name": "python",
   "nbconvert_exporter": "python",
   "pygments_lexer": "ipython3",
   "version": "3.6.9"
  }
 },
 "nbformat": 4,
 "nbformat_minor": 2
}
