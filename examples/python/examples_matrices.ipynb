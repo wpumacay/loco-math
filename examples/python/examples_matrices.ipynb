{
 "cells": [
  {
   "cell_type": "markdown",
   "id": "1b536cd4",
   "metadata": {},
   "source": [
    "# How to use the exposed Matrix API"
   ]
  },
  {
   "cell_type": "code",
   "execution_count": 1,
   "id": "a4922761",
   "metadata": {},
   "outputs": [],
   "source": [
    "import numpy as np\n",
    "\n",
    "from lmath import Vector2f, Vector3f, Vector4f\n",
    "from lmath import Vector2d, Vector3d, Vector4d\n",
    "from lmath import Matrix2f, Matrix3f, Matrix4f\n",
    "from lmath import Matrix2d, Matrix3d, Matrix4d"
   ]
  },
  {
   "cell_type": "markdown",
   "id": "a7bdd420",
   "metadata": {},
   "source": [
    "## Constructors"
   ]
  },
  {
   "cell_type": "markdown",
   "id": "fb9d4539",
   "metadata": {},
   "source": [
    "* Default: creates _Zero_ matrix\n",
    "* Diagonal entries: creates a diagonal matrix with the given elements on the diagonal\n",
    "* Full entries: creates a matrix from all its entries (4 for Matrix2, 9 for Matrix3, 16 for Matrix4)"
   ]
  },
  {
   "cell_type": "code",
   "execution_count": 2,
   "id": "d08baa86",
   "metadata": {},
   "outputs": [
    {
     "name": "stdout",
     "output_type": "stream",
     "text": [
      "mat a: \n",
      "Matrix2f([[0.0,0.0],\n",
      "          [0.0,0.0]])\n",
      "mat b: \n",
      "Matrix3f([[1.0,0.0,0.0],\n",
      "          [0.0,2.0,0.0],\n",
      "          [0.0,0.0,3.0]])\n",
      "mat c: \n",
      "Matrix4f([[1.0,2.0,3.0,4.0],\n",
      "          [5.0,6.0,7.0,8.0],\n",
      "          [9.0,10.0,11.0,12.0],\n",
      "          [13.0,14.0,15.0,16.0]])\n"
     ]
    }
   ],
   "source": [
    "mat_a = Matrix2f()\n",
    "mat_b = Matrix3f(1., 2., 3.)\n",
    "mat_c = Matrix4f(1., 2., 3., 4.,\n",
    "                 5., 6., 7., 8.,\n",
    "                 9., 10., 11., 12.,\n",
    "                 13., 14., 15., 16.)\n",
    "\n",
    "print(\"mat a: \\n{}\".format(mat_a))\n",
    "print(\"mat b: \\n{}\".format(mat_b))\n",
    "print(\"mat c: \\n{}\".format(mat_c))"
   ]
  },
  {
   "cell_type": "markdown",
   "id": "3be48f8a",
   "metadata": {},
   "source": [
    "## Buffer protocol\n",
    "These types follow the buffer protocol, so we can interoperate with numpy as well. Just be careful to use the appropriate format|type (e.g. `MatrixXf -> np.float32, MatrixXd -> np.float64`)\n"
   ]
  },
  {
   "cell_type": "code",
   "execution_count": 3,
   "id": "c1378e9b",
   "metadata": {},
   "outputs": [
    {
     "name": "stdout",
     "output_type": "stream",
     "text": [
      "mat: \n",
      "Matrix3f([[1.0,2.0,3.0],\n",
      "          [4.0,5.0,6.0],\n",
      "          [7.0,8.0,9.0]])\n",
      "np_array: \n",
      "[[2. 3.]\n",
      " [4. 5.]]\n",
      "dtype: float64\n"
     ]
    }
   ],
   "source": [
    "# Constructing from numpy-array\n",
    "np_array = np.array([[1., 2., 3.],\n",
    "                     [4., 5., 6.],\n",
    "                     [7., 8., 9.]], dtype=np.float32)\n",
    "mat = Matrix3f(np_array)\n",
    "print('mat: \\n{}'.format(mat))\n",
    "\n",
    "# Constructing from MatrixXY\n",
    "mat = Matrix2d(2., 3.,\n",
    "               4., 5.)\n",
    "np_array = np.array(mat)\n",
    "print(\"np_array: \\n{}\\ndtype: {}\".format(np_array, np_array.dtype))"
   ]
  },
  {
   "cell_type": "markdown",
   "id": "b84bebdb",
   "metadata": {},
   "source": [
    "## Get/Set item"
   ]
  },
  {
   "cell_type": "markdown",
   "id": "fdea4d02",
   "metadata": {},
   "source": [
    "Using get-item with a single index returns the requested column:"
   ]
  },
  {
   "cell_type": "code",
   "execution_count": 4,
   "id": "fa6c2aa6",
   "metadata": {},
   "outputs": [
    {
     "name": "stdout",
     "output_type": "stream",
     "text": [
      "mat: \n",
      "Matrix3f([[8.0,1.0,0.0],\n",
      "          [0.0,1.0,5.0],\n",
      "          [8.0,4.0,2.0]])\n",
      "column(0): Vector3f(x=8.0, y=0.0, z=8.0)\n",
      "column(1): Vector3f(x=1.0, y=1.0, z=4.0)\n",
      "column(2): Vector3f(x=0.0, y=5.0, z=2.0)\n"
     ]
    }
   ],
   "source": [
    "mat = Matrix3f(np.random.randint(0, 10, (3, 3)).astype(np.float32))\n",
    "print(f'mat: \\n{mat}')\n",
    "col0, col1, col2 = mat[0], mat[1], mat[2]\n",
    "print(f'column(0): {col0}')\n",
    "print(f'column(1): {col1}')\n",
    "print(f'column(2): {col2}')"
   ]
  },
  {
   "cell_type": "markdown",
   "id": "02ca6a04",
   "metadata": {},
   "source": [
    "Using get-item with two indices returns the requested `(i,j)` entry of the matrix:"
   ]
  },
  {
   "cell_type": "code",
   "execution_count": 5,
   "id": "806c63bf",
   "metadata": {},
   "outputs": [
    {
     "name": "stdout",
     "output_type": "stream",
     "text": [
      "mat: \n",
      "Matrix4d([[15.0,0.0,4.0,14.0],\n",
      "          [3.0,8.0,6.0,5.0],\n",
      "          [11.0,14.0,8.0,19.0],\n",
      "          [2.0,4.0,16.0,14.0]])\n",
      "mat(1,2) = 6.0\n"
     ]
    }
   ],
   "source": [
    "mat = Matrix4d(np.random.randint(0, 20, (4, 4)).astype(np.float64))\n",
    "row, col = 1, 2\n",
    "print('mat: \\n{}'.format(mat))\n",
    "print('mat({},{}) = {}'.format(row, col, mat[row, col]))"
   ]
  },
  {
   "cell_type": "markdown",
   "id": "b64fc23e",
   "metadata": {},
   "source": [
    "## Operators\n",
    "We expose some math operations available for matrices, such as:\n",
    "* Addition (`+`)\n",
    "* Substraction (`-`)\n",
    "* Scalar multiplication (`*`)\n",
    "* Matrix-matrix multiplication (`*`)\n",
    "* Matrix-vector multiplication (`*`)"
   ]
  },
  {
   "cell_type": "code",
   "execution_count": 6,
   "id": "4674a0e7",
   "metadata": {},
   "outputs": [
    {
     "name": "stdout",
     "output_type": "stream",
     "text": [
      "mat_a: \n",
      "Matrix3f([[7.0,3.0,8.0],\n",
      "          [6.0,8.0,8.0],\n",
      "          [1.0,1.0,7.0]])\n",
      "mat_b: \n",
      "Matrix3f([[0.0,6.0,5.0],\n",
      "          [9.0,7.0,9.0],\n",
      "          [1.0,1.0,2.0]])\n",
      "mat_sum: \n",
      "Matrix3f([[7.0,9.0,13.0],\n",
      "          [15.0,15.0,17.0],\n",
      "          [2.0,2.0,9.0]])\n",
      "mat_diff: \n",
      "Matrix3f([[7.0,-3.0,3.0],\n",
      "          [-3.0,1.0,-1.0],\n",
      "          [0.0,0.0,5.0]])\n",
      "mat_a_scaled: \n",
      "Matrix3f([[17.5,7.5,20.0],\n",
      "          [15.0,20.0,20.0],\n",
      "          [2.5,2.5,17.5]])\n",
      "mat_b_scaled: \n",
      "Matrix3f([[0.0,15.0,12.5],\n",
      "          [22.5,17.5,22.5],\n",
      "          [2.5,2.5,5.0]])\n",
      "mat_a * mat_b: \n",
      "Matrix3f([[35.0,71.0,78.0],\n",
      "          [80.0,100.0,118.0],\n",
      "          [16.0,20.0,28.0]])\n",
      "mat_a * vec: \n",
      "Vector3f(x=37.0, y=46.0, z=24.0)\n"
     ]
    }
   ],
   "source": [
    "mat_a = Matrix3f(np.random.randint(0, 10, (3, 3)).astype(np.float32))\n",
    "mat_b = Matrix3f(np.random.randint(0, 10, (3, 3)).astype(np.float32))\n",
    "print('mat_a: \\n{}'.format(mat_a))\n",
    "print('mat_b: \\n{}'.format(mat_b))\n",
    "\n",
    "# Matrix addition\n",
    "mat_sum = mat_a + mat_b\n",
    "print('mat_sum: \\n{}'.format(mat_sum))\n",
    "\n",
    "# Matrix substraction\n",
    "mat_diff = mat_a - mat_b\n",
    "print('mat_diff: \\n{}'.format(mat_diff))\n",
    "\n",
    "# Matrix-scalar multiplication\n",
    "mat_a_scaled = 2.5 * mat_a\n",
    "mat_b_scaled = mat_b * 2.5\n",
    "print('mat_a_scaled: \\n{}'.format(mat_a_scaled))\n",
    "print('mat_b_scaled: \\n{}'.format(mat_b_scaled))\n",
    "\n",
    "# Matrix-matrix multiplication\n",
    "mat_c = mat_a * mat_b\n",
    "print('mat_a * mat_b: \\n{}'.format(mat_c))\n",
    "\n",
    "# Matrix-vector multiplication\n",
    "vec = Vector3f(1., 2., 3.)\n",
    "vec_d = mat_a * vec\n",
    "print('mat_a * vec: \\n{}'.format(vec_d))"
   ]
  },
  {
   "cell_type": "markdown",
   "id": "8866190f",
   "metadata": {},
   "source": [
    "## Some exposed methods"
   ]
  },
  {
   "cell_type": "markdown",
   "id": "1c58f1f5",
   "metadata": {},
   "source": [
    "We exposed the following methods via the Python API:\n",
    "\n",
    "* Transpose\n",
    "* Trace\n",
    "* Determinant\n",
    "* Inverse"
   ]
  },
  {
   "cell_type": "code",
   "execution_count": 7,
   "id": "dbfa7d9e",
   "metadata": {},
   "outputs": [
    {
     "name": "stdout",
     "output_type": "stream",
     "text": [
      "matrix: \n",
      "Matrix3f([[0.0,5.0,6.0],\n",
      "          [8.0,7.0,8.0],\n",
      "          [3.0,8.0,2.0]])\n",
      "transpose: \n",
      "Matrix3f([[0.0,8.0,3.0],\n",
      "          [5.0,7.0,8.0],\n",
      "          [6.0,8.0,2.0]])\n",
      "determinant: \n",
      "298.0\n",
      "inverse: \n",
      "Matrix3f([[-0.16778524219989777,0.12751677632331848,-0.00671140942722559],\n",
      "          [0.02684563770890236,-0.06040268391370773,0.16107383370399475],\n",
      "          [0.14429530501365662,0.05033557116985321,-0.1342281848192215]])\n"
     ]
    }
   ],
   "source": [
    "mat = Matrix3f(np.random.randint(0, 10, (3, 3)).astype(np.float32))\n",
    "print(f\"matrix: \\n{mat}\")\n",
    "print(f\"transpose: \\n{mat.transpose()}\")\n",
    "print(f\"determinant: \\n{mat.determinant()}\")\n",
    "print(f\"inverse: \\n{mat.inverse()}\")"
   ]
  }
 ],
 "metadata": {
  "kernelspec": {
   "display_name": "Python 3 (ipykernel)",
   "language": "python",
   "name": "python3"
  },
  "language_info": {
   "codemirror_mode": {
    "name": "ipython",
    "version": 3
   },
   "file_extension": ".py",
   "mimetype": "text/x-python",
   "name": "python",
   "nbconvert_exporter": "python",
   "pygments_lexer": "ipython3",
   "version": "3.9.13"
  }
 },
 "nbformat": 4,
 "nbformat_minor": 5
}
