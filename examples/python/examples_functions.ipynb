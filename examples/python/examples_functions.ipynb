{
 "cells": [
  {
   "cell_type": "markdown",
   "id": "ca480477",
   "metadata": {},
   "source": [
    "# How to use the exposed factory functions for Matrix types"
   ]
  },
  {
   "cell_type": "code",
   "execution_count": null,
   "id": "344202be",
   "metadata": {},
   "outputs": [],
   "source": [
    "import numpy as np\n",
    "import ipywidgets as widgets\n",
    "from matplotlib import pyplot as plt\n",
    "from IPython.display import display\n",
    "\n",
    "from lmath import Vector2f, Vector3f, Vector4f\n",
    "from lmath import Vector2d, Vector3d, Vector4d\n",
    "from lmath import Matrix2f, Matrix3f, Matrix4f\n",
    "from lmath import Matrix2d, Matrix3d, Matrix4d\n",
    "\n",
    "%matplotlib inline"
   ]
  },
  {
   "cell_type": "markdown",
   "id": "d1ba5e50",
   "metadata": {},
   "source": [
    "## Rotation matrices (2d)"
   ]
  },
  {
   "cell_type": "code",
   "execution_count": null,
   "id": "9c4146c0",
   "metadata": {},
   "outputs": [],
   "source": [
    "w_angle = widgets.FloatSlider(0, min=-np.pi, max=np.pi, step=0.01)\n",
    "display(w_angle)"
   ]
  },
  {
   "cell_type": "code",
   "execution_count": null,
   "id": "1fe18aa9",
   "metadata": {},
   "outputs": [],
   "source": [
    "# Have a circle at hand to be drawn when needed :)\n",
    "tt = np.linspace(-np.pi, np.pi, 100)\n",
    "xx, yy = np.cos(tt), np.sin(tt)"
   ]
  },
  {
   "cell_type": "code",
   "execution_count": null,
   "id": "6e93ea7b",
   "metadata": {},
   "outputs": [],
   "source": [
    "mat = Matrix2f.Rotation(w_angle.value)\n",
    "vec = Vector2f(1.0, 0.0) # x unit vector\n",
    "vec_rotated = mat * vec\n",
    "plt.plot(xx, yy, 'b-')\n",
    "plt.plot([vec.x], [vec.y], 'bo')\n",
    "plt.plot([vec_rotated.x], [vec_rotated.y], 'ro')\n",
    "plt.axis([-2, 2, -2, 2])\n",
    "plt.grid(True)\n",
    "plt.annotate(\"original\", xy=vec)\n",
    "plt.annotate(\"rotated\", xy=vec_rotated)"
   ]
  },
  {
   "cell_type": "markdown",
   "id": "545bdd4f",
   "metadata": {},
   "source": [
    "## Scale matrices (2d)"
   ]
  },
  {
   "cell_type": "code",
   "execution_count": null,
   "id": "d01af286",
   "metadata": {},
   "outputs": [],
   "source": [
    "w_scale = widgets.FloatSlider(1.0, min=1.0, max=5.0, step=0.01)\n",
    "display(w_scale)"
   ]
  },
  {
   "cell_type": "code",
   "execution_count": null,
   "id": "9d9ccf5f",
   "metadata": {},
   "outputs": [],
   "source": [
    "scale = w_scale.value\n",
    "mat = Matrix2f.Scale(scale, scale)\n",
    "vec = Vector2f(1.0, 0.0) # x unit vector\n",
    "vec_scaled = mat * vec\n",
    "plt.plot(xx, yy, 'b-')\n",
    "plt.plot([vec.x], [vec.y], 'bo')\n",
    "plt.plot([vec_scaled.x], [vec_scaled.y], 'ro')\n",
    "plt.axis([-5, 5, -5, 5])\n",
    "plt.grid(True)\n",
    "plt.annotate(\"original\", xy=vec)\n",
    "plt.annotate(\"scaled\", xy=vec_scaled)"
   ]
  },
  {
   "cell_type": "markdown",
   "id": "8739682c",
   "metadata": {},
   "source": [
    "## Rotation matrices (3d)"
   ]
  },
  {
   "cell_type": "code",
   "execution_count": null,
   "id": "9e2a91dc",
   "metadata": {},
   "outputs": [],
   "source": [
    "from mpl_toolkits import mplot3d\n",
    "w_angle_x = widgets.FloatSlider(np.pi/4, min=-np.pi, max=np.pi, step=0.01)\n",
    "w_angle_y = widgets.FloatSlider(np.pi/4, min=-np.pi, max=np.pi, step=0.01)\n",
    "w_angle_z = widgets.FloatSlider(np.pi/4, min=-np.pi, max=np.pi, step=0.01)\n",
    "display(w_angle_x)\n",
    "display(w_angle_y)\n",
    "display(w_angle_z)"
   ]
  },
  {
   "cell_type": "code",
   "execution_count": null,
   "id": "a5fbf34a",
   "metadata": {},
   "outputs": [],
   "source": [
    "# Have a few circles at hand to be drawn when needed :)\n",
    "n_samples = 100\n",
    "tt = np.linspace(-np.pi, np.pi, n_samples)\n",
    "zeros = np.zeros(n_samples)\n",
    "xx1, yy1 = np.cos(tt), np.sin(tt)\n",
    "yy2, zz2 = np.cos(tt), np.sin(tt)\n",
    "zz3, xx3 = np.cos(tt), np.sin(tt)"
   ]
  },
  {
   "cell_type": "code",
   "execution_count": null,
   "id": "95f7a9fe",
   "metadata": {},
   "outputs": [],
   "source": [
    "rotmat_x = Matrix3f.RotationX(w_angle_x.value)\n",
    "rotmat_y = Matrix3f.RotationY(w_angle_y.value)\n",
    "rotmat_z = Matrix3f.RotationZ(w_angle_z.value)\n",
    "\n",
    "vec_rotx = rotmat_x * Vector3f(0.0, 1.0, 0.0)\n",
    "vec_roty = rotmat_y * Vector3f(0.0, 0.0, 1.0)\n",
    "vec_rotz = rotmat_z * Vector3f(1.0, 0.0, 0.0)"
   ]
  },
  {
   "cell_type": "code",
   "execution_count": null,
   "id": "df35183d",
   "metadata": {},
   "outputs": [],
   "source": [
    "fig = plt.figure()\n",
    "ax = plt.axes(projection='3d')\n",
    "ax.plot3D(xx1, yy1, zeros)\n",
    "ax.plot3D(zeros, yy2, zz2)\n",
    "ax.plot3D(xx3, zeros, zz3)\n",
    "ax.scatter3D(vec_rotx.x, vec_rotx.y, vec_rotx.z, 'ro')\n",
    "ax.scatter3D(vec_roty.x, vec_roty.y, vec_roty.z, 'ro')\n",
    "ax.scatter3D(vec_rotz.x, vec_rotz.y, vec_rotz.z, 'ro')"
   ]
  },
  {
   "cell_type": "markdown",
   "id": "e86f4a65",
   "metadata": {},
   "source": [
    "## Create a 3d visualizer"
   ]
  },
  {
   "cell_type": "code",
   "execution_count": 39,
   "id": "460884f9",
   "metadata": {},
   "outputs": [],
   "source": [
    "import os\n",
    "import time\n",
    "import numpy as np\n",
    "from lmath import Vector3d, Vector4d\n",
    "from lmath import Matrix3d, Matrix4d\n",
    "\n",
    "import meshcat\n",
    "import meshcat.geometry as g\n",
    "import meshcat.transformations as tf"
   ]
  },
  {
   "cell_type": "code",
   "execution_count": 40,
   "id": "af325131",
   "metadata": {},
   "outputs": [
    {
     "name": "stdout",
     "output_type": "stream",
     "text": [
      "You can open the visualizer by visiting the following URL:\n",
      "http://127.0.0.1:7002/static/\n"
     ]
    },
    {
     "data": {
      "text/html": [
       "\n",
       "            <div style=\"height: 400px; width: 100%; overflow-x: auto; overflow-y: hidden; resize: both\">\n",
       "            <iframe src=\"http://127.0.0.1:7002/static/\" style=\"width: 100%; height: 100%; border: none\"></iframe>\n",
       "            </div>\n",
       "            "
      ],
      "text/plain": [
       "<IPython.core.display.HTML object>"
      ]
     },
     "execution_count": 40,
     "metadata": {},
     "output_type": "execute_result"
    }
   ],
   "source": [
    "vis = meshcat.Visualizer()\n",
    "vis.jupyter_cell()"
   ]
  },
  {
   "cell_type": "code",
   "execution_count": 41,
   "id": "442dbc3c",
   "metadata": {},
   "outputs": [],
   "source": [
    "red_material = g.MeshPhongMaterial(color=0xff0000, reflectivity=0.8)\n",
    "green_material = g.MeshPhongMaterial(color=0x00ff00, reflectivity=0.8)\n",
    "blue_material = g.MeshPhongMaterial(color=0x0000ff, reflectivity=0.8)\n",
    "gray_material = g.MeshPhongMaterial(color=0x888888, reflectivity=0.8)\n",
    "\n",
    "frame = vis[\"frame\"]\n",
    "frame.delete()\n",
    "frame[\"x_axis\"].set_object(g.Cylinder(1.0, 0.1), red_material)\n",
    "frame[\"x_axis\"].set_transform(tf.euler_matrix(0.0, 0.0, np.pi / 2) @ tf.translation_matrix([0.0, -0.5, 0.0]))\n",
    "frame[\"y_axis\"].set_object(g.Cylinder(1.0, 0.1), green_material)\n",
    "frame[\"y_axis\"].set_transform(tf.translation_matrix([0.0, 0.5, 0.0]))\n",
    "frame[\"z_axis\"].set_object(g.Cylinder(1.0, 0.1), blue_material)\n",
    "frame[\"z_axis\"].set_transform(tf.euler_matrix(np.pi / 2, 0.0, 0.0) @ tf.translation_matrix([0.0, 0.5, 0.0]))\n",
    "frame[\"center\"].set_object(g.Sphere(0.2), gray_material)"
   ]
  },
  {
   "cell_type": "markdown",
   "id": "86995170",
   "metadata": {},
   "source": [
    "### Note:\n",
    "\n",
    "* Notice that we're using one extra transposition, because our buffers are stored in column major order, unlike numpy default behaviour that is row-major order\n",
    "* Notice also that we're using the format `w-x-y-z` for quaternions, whereas meshcat expects the THREE.js format `x-y-z-w`. To avoid issues, we transform our quaternions to that format"
   ]
  },
  {
   "cell_type": "code",
   "execution_count": 42,
   "id": "01aaa4ba",
   "metadata": {},
   "outputs": [],
   "source": [
    "def rotation_matrix_to_meshcat_format(matrix):\n",
    "    return matrix.T\n",
    "\n",
    "def quaternion_to_meshcat_format(quaternion):\n",
    "    return np.array([quaternion.x, quaternion.y, quaternion.z, quaternion.w], np.float64)"
   ]
  },
  {
   "cell_type": "code",
   "execution_count": 43,
   "id": "04eecc7d",
   "metadata": {},
   "outputs": [],
   "source": [
    "# rotate the frame around the x-axis\n",
    "for t in np.linspace(-np.pi, np.pi, 200):\n",
    "    ### frame.set_transform(tf.rotation_matrix(t + np.pi, [1, 0, 0]))\n",
    "    frame.set_transform(rotation_matrix_to_meshcat_format(Matrix4d.RotationX(t + np.pi)))\n",
    "    time.sleep(0.01)"
   ]
  },
  {
   "cell_type": "code",
   "execution_count": 44,
   "id": "5a944491",
   "metadata": {},
   "outputs": [],
   "source": [
    "# rotate the frame around the y-axis\n",
    "for t in np.linspace(-np.pi, np.pi, 200):\n",
    "    ### frame.set_transform(tf.rotation_matrix(t + np.pi, [0, 1, 0]))\n",
    "    frame.set_transform(rotation_matrix_to_meshcat_format(Matrix4d.RotationY(t + np.pi).T))\n",
    "    time.sleep(0.01)"
   ]
  },
  {
   "cell_type": "code",
   "execution_count": 45,
   "id": "1399a371",
   "metadata": {},
   "outputs": [],
   "source": [
    "# rotate the frame around the z-axis\n",
    "for t in np.linspace(-np.pi, np.pi, 200):\n",
    "    ### frame.set_transform(tf.rotation_matrix(t + np.pi, [0, 0, 1]))\n",
    "    frame.set_transform(rotation_matrix_to_meshcat_format(Matrix4d.RotationZ(t + np.pi).T))\n",
    "    time.sleep(0.01)"
   ]
  }
 ],
 "metadata": {
  "kernelspec": {
   "display_name": "Python 3 (ipykernel)",
   "language": "python",
   "name": "python3"
  },
  "language_info": {
   "codemirror_mode": {
    "name": "ipython",
    "version": 3
   },
   "file_extension": ".py",
   "mimetype": "text/x-python",
   "name": "python",
   "nbconvert_exporter": "python",
   "pygments_lexer": "ipython3",
   "version": "3.9.13"
  }
 },
 "nbformat": 4,
 "nbformat_minor": 5
}
