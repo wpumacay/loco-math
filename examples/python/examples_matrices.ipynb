{
 "cells": [
  {
   "cell_type": "markdown",
   "id": "1b536cd4",
   "metadata": {},
   "source": [
    "# How to use the exposed Matrix API"
   ]
  },
  {
   "cell_type": "code",
   "execution_count": null,
   "id": "a4922761",
   "metadata": {},
   "outputs": [],
   "source": [
    "import numpy as np\n",
    "\n",
    "from lmath import Matrix2f, Matrix3f, Matrix4f"
   ]
  },
  {
   "cell_type": "markdown",
   "id": "a7bdd420",
   "metadata": {},
   "source": [
    "## Constructors"
   ]
  },
  {
   "cell_type": "code",
   "execution_count": null,
   "id": "d08baa86",
   "metadata": {},
   "outputs": [],
   "source": [
    "mat_a = Matrix2f()\n",
    "mat_b = Matrix3f(1., 2., 3.)\n",
    "mat_c = Matrix4f(1., 2., 3., 4.,\n",
    "                 5., 6., 7., 8.,\n",
    "                 9., 10., 11., 12.,\n",
    "                 13., 14., 15., 16.)\n",
    "\n",
    "print(\"mat a: \\n{}\".format(mat_a))\n",
    "print(\"mat b: \\n{}\".format(mat_b))\n",
    "print(\"mat c: \\n{}\".format(mat_c))"
   ]
  }
 ],
 "metadata": {
  "kernelspec": {
   "display_name": "Python 3 (ipykernel)",
   "language": "python",
   "name": "python3"
  },
  "language_info": {
   "codemirror_mode": {
    "name": "ipython",
    "version": 3
   },
   "file_extension": ".py",
   "mimetype": "text/x-python",
   "name": "python",
   "nbconvert_exporter": "python",
   "pygments_lexer": "ipython3",
   "version": "3.9.13"
  }
 },
 "nbformat": 4,
 "nbformat_minor": 5
}
